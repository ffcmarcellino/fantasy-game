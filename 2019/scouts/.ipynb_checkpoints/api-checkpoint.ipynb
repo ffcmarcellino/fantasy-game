{
 "cells": [
  {
   "cell_type": "code",
   "execution_count": 16,
   "metadata": {},
   "outputs": [],
   "source": [
    "import pandas as pd\n",
    "import requests as rq\n",
    "import json\n",
    "from datetime import datetime as dt\n",
    "import ast"
   ]
  },
  {
   "cell_type": "code",
   "execution_count": 17,
   "metadata": {},
   "outputs": [],
   "source": [
    "api = rq.get(\"https://api.cartolafc.globo.com/atletas/mercado\")"
   ]
  },
  {
   "cell_type": "code",
   "execution_count": 18,
   "metadata": {},
   "outputs": [],
   "source": [
    "market = json.loads(api.text)"
   ]
  },
  {
   "cell_type": "code",
   "execution_count": 19,
   "metadata": {},
   "outputs": [
    {
     "data": {
      "text/plain": [
       "dict_keys(['atletas', 'clubes', 'posicoes', 'status'])"
      ]
     },
     "execution_count": 19,
     "metadata": {},
     "output_type": "execute_result"
    }
   ],
   "source": [
    "market.keys()"
   ]
  },
  {
   "cell_type": "code",
   "execution_count": 20,
   "metadata": {},
   "outputs": [],
   "source": [
    "roundN = pd.DataFrame(market[\"atletas\"])"
   ]
  },
  {
   "cell_type": "code",
   "execution_count": 21,
   "metadata": {},
   "outputs": [],
   "source": [
    "with open(\"../../status_id.json\") as file:\n",
    "    status_id = json.load(file)\n",
    "with open(\"../../positions.json\") as file:\n",
    "    pos_id = json.load(file)"
   ]
  },
  {
   "cell_type": "code",
   "execution_count": null,
   "metadata": {},
   "outputs": [],
   "source": [
    "roundN = roundN[[\"rodada_id\", \"atleta_id\", \"nome\", \"apelido\", \"posicao_id\", \"clube_id\", \"scout\", \"pontos_num\", \"preco_num\", \"variacao_num\"]]\n",
    "roundN.columns = [\"round_num\", \"player_id\", \"player_name\", \"player_nickname\", \"position\", \"team_id\", \"scout\", \"total_score\", \"current_price\", \"price_delta\"]"
   ]
  },
  {
   "cell_type": "code",
   "execution_count": 22,
   "metadata": {},
   "outputs": [],
   "source": [
    "roundN.position = roundN.position.apply(lambda x: pos_id[str(x)])"
   ]
  },
  {
   "cell_type": "code",
   "execution_count": null,
   "metadata": {},
   "outputs": [],
   "source": [
    "def scout_parser(scout, col_names):\n",
    "    scout_dict = ast.literal_eval(scout)\n",
    "    scout_list = []\n",
    "    for col in col_names:\n",
    "        try:\n",
    "            el = scout_dict[col]\n",
    "        except:\n",
    "            el = 0\n",
    "        scout_list.append(el)\n",
    "    return pd.DataFrame(columns = col_names, data = [scout_list]).iloc[0]"
   ]
  },
  {
   "cell_type": "code",
   "execution_count": null,
   "metadata": {},
   "outputs": [],
   "source": [
    "col_names = [\"G\", \"A\", \"FT\", \"FD\", \"FF\", \"FS\", \"PP\", \"I\", \"PE\", \"SG\", \"DP\", \"DD\", \"RB\", \"GC\", \"CV\", \"CA\", \"GS\", \"FC\"]\n",
    "roundN[col_names] = roundN.scout.apply(lambda x: scout_parser(x, col_names))\n",
    "roundN = roundN[[\"round_num\", \"player_id\", \"player_name\", \"player_nickname\", \"position\", \"team_id\", \"G\", \"A\", \"FT\", \"FD\", \"FF\", \"FS\", \"PP\", \"I\", \"PE\", \"SG\", \"DP\", \"DD\", \"RB\", \"GC\", \"CV\", \"CA\", \"GS\", \"FC\", \"total_score\", \"current_price\", \"price_delta\"]]"
   ]
  },
  {
   "cell_type": "code",
   "execution_count": 23,
   "metadata": {},
   "outputs": [
    {
     "data": {
      "text/html": [
       "<div>\n",
       "<style scoped>\n",
       "    .dataframe tbody tr th:only-of-type {\n",
       "        vertical-align: middle;\n",
       "    }\n",
       "\n",
       "    .dataframe tbody tr th {\n",
       "        vertical-align: top;\n",
       "    }\n",
       "\n",
       "    .dataframe thead th {\n",
       "        text-align: right;\n",
       "    }\n",
       "</style>\n",
       "<table border=\"1\" class=\"dataframe\">\n",
       "  <thead>\n",
       "    <tr style=\"text-align: right;\">\n",
       "      <th></th>\n",
       "      <th>apelido</th>\n",
       "      <th>atleta_id</th>\n",
       "      <th>clube_id</th>\n",
       "      <th>foto</th>\n",
       "      <th>jogos_num</th>\n",
       "      <th>media_num</th>\n",
       "      <th>nome</th>\n",
       "      <th>pontos_num</th>\n",
       "      <th>posicao_id</th>\n",
       "      <th>preco_num</th>\n",
       "      <th>rodada_id</th>\n",
       "      <th>scout</th>\n",
       "      <th>slug</th>\n",
       "      <th>status_id</th>\n",
       "      <th>variacao_num</th>\n",
       "    </tr>\n",
       "  </thead>\n",
       "  <tbody>\n",
       "    <tr>\n",
       "      <th>0</th>\n",
       "      <td>Renê</td>\n",
       "      <td>78445</td>\n",
       "      <td>262</td>\n",
       "      <td>https://s.glbimg.com/es/sde/f/2019/04/26/f7f5e...</td>\n",
       "      <td>4</td>\n",
       "      <td>3.27</td>\n",
       "      <td>Renê Rodrigues Martins</td>\n",
       "      <td>0</td>\n",
       "      <td>LAT</td>\n",
       "      <td>7.72</td>\n",
       "      <td>7</td>\n",
       "      <td>None</td>\n",
       "      <td>rene</td>\n",
       "      <td>7</td>\n",
       "      <td>0.00</td>\n",
       "    </tr>\n",
       "    <tr>\n",
       "      <th>1</th>\n",
       "      <td>Bruno Henrique</td>\n",
       "      <td>90285</td>\n",
       "      <td>262</td>\n",
       "      <td>https://s.glbimg.com/es/sde/f/2019/04/26/195ab...</td>\n",
       "      <td>6</td>\n",
       "      <td>6.80</td>\n",
       "      <td>Bruno Henrique Pinto</td>\n",
       "      <td>0</td>\n",
       "      <td>ATA</td>\n",
       "      <td>20.56</td>\n",
       "      <td>7</td>\n",
       "      <td>None</td>\n",
       "      <td>bruno-henrique</td>\n",
       "      <td>7</td>\n",
       "      <td>0.00</td>\n",
       "    </tr>\n",
       "    <tr>\n",
       "      <th>2</th>\n",
       "      <td>Fagner</td>\n",
       "      <td>42500</td>\n",
       "      <td>264</td>\n",
       "      <td>https://s.glbimg.com/es/sde/f/2019/03/18/d5cd8...</td>\n",
       "      <td>5</td>\n",
       "      <td>9.90</td>\n",
       "      <td>Fagner Conserva Lemos</td>\n",
       "      <td>0</td>\n",
       "      <td>LAT</td>\n",
       "      <td>15.29</td>\n",
       "      <td>7</td>\n",
       "      <td>None</td>\n",
       "      <td>fagner</td>\n",
       "      <td>6</td>\n",
       "      <td>0.00</td>\n",
       "    </tr>\n",
       "    <tr>\n",
       "      <th>3</th>\n",
       "      <td>Dedé</td>\n",
       "      <td>60819</td>\n",
       "      <td>283</td>\n",
       "      <td>https://s.glbimg.com/es/sde/f/2018/05/18/868bc...</td>\n",
       "      <td>7</td>\n",
       "      <td>5.72</td>\n",
       "      <td>Anderson Vital da Silva</td>\n",
       "      <td>0</td>\n",
       "      <td>ZAG</td>\n",
       "      <td>15.74</td>\n",
       "      <td>7</td>\n",
       "      <td>None</td>\n",
       "      <td>dede</td>\n",
       "      <td>7</td>\n",
       "      <td>0.14</td>\n",
       "    </tr>\n",
       "    <tr>\n",
       "      <th>4</th>\n",
       "      <td>Fábio Santos</td>\n",
       "      <td>38229</td>\n",
       "      <td>282</td>\n",
       "      <td>https://s.glbimg.com/es/sde/f/2018/05/07/98bee...</td>\n",
       "      <td>6</td>\n",
       "      <td>4.27</td>\n",
       "      <td>Fábio Santos Romeu</td>\n",
       "      <td>0</td>\n",
       "      <td>LAT</td>\n",
       "      <td>12.61</td>\n",
       "      <td>7</td>\n",
       "      <td>None</td>\n",
       "      <td>fabio-santos</td>\n",
       "      <td>7</td>\n",
       "      <td>3.09</td>\n",
       "    </tr>\n",
       "    <tr>\n",
       "      <th>5</th>\n",
       "      <td>Fábio</td>\n",
       "      <td>37656</td>\n",
       "      <td>283</td>\n",
       "      <td>https://s.glbimg.com/es/sde/f/2018/05/18/d4072...</td>\n",
       "      <td>6</td>\n",
       "      <td>3.17</td>\n",
       "      <td>Fábio Deivson Lopes Maciel</td>\n",
       "      <td>0</td>\n",
       "      <td>GOL</td>\n",
       "      <td>9.64</td>\n",
       "      <td>7</td>\n",
       "      <td>None</td>\n",
       "      <td>fabio</td>\n",
       "      <td>7</td>\n",
       "      <td>-0.46</td>\n",
       "    </tr>\n",
       "    <tr>\n",
       "      <th>6</th>\n",
       "      <td>Nico López</td>\n",
       "      <td>84709</td>\n",
       "      <td>285</td>\n",
       "      <td>https://s.glbimg.com/es/sde/f/2018/04/08/5bb6e...</td>\n",
       "      <td>6</td>\n",
       "      <td>3.32</td>\n",
       "      <td>Nicolás Federico López Alonso</td>\n",
       "      <td>0</td>\n",
       "      <td>ATA</td>\n",
       "      <td>15.14</td>\n",
       "      <td>7</td>\n",
       "      <td>None</td>\n",
       "      <td>nico-lopez</td>\n",
       "      <td>7</td>\n",
       "      <td>-0.49</td>\n",
       "    </tr>\n",
       "    <tr>\n",
       "      <th>7</th>\n",
       "      <td>Gabriel</td>\n",
       "      <td>83257</td>\n",
       "      <td>262</td>\n",
       "      <td>https://s.glbimg.com/es/sde/f/2019/04/26/dd351...</td>\n",
       "      <td>5</td>\n",
       "      <td>7.74</td>\n",
       "      <td>Gabriel Barbosa Almeida</td>\n",
       "      <td>0</td>\n",
       "      <td>ATA</td>\n",
       "      <td>18.33</td>\n",
       "      <td>7</td>\n",
       "      <td>None</td>\n",
       "      <td>gabriel</td>\n",
       "      <td>7</td>\n",
       "      <td>2.61</td>\n",
       "    </tr>\n",
       "    <tr>\n",
       "      <th>8</th>\n",
       "      <td>Diego Alves</td>\n",
       "      <td>38509</td>\n",
       "      <td>262</td>\n",
       "      <td>https://s.glbimg.com/es/sde/f/2019/04/26/7bdef...</td>\n",
       "      <td>4</td>\n",
       "      <td>2.50</td>\n",
       "      <td>Diego Alves Carreira</td>\n",
       "      <td>0</td>\n",
       "      <td>GOL</td>\n",
       "      <td>5.26</td>\n",
       "      <td>7</td>\n",
       "      <td>None</td>\n",
       "      <td>diego-alves</td>\n",
       "      <td>7</td>\n",
       "      <td>1.06</td>\n",
       "    </tr>\n",
       "    <tr>\n",
       "      <th>9</th>\n",
       "      <td>Everton</td>\n",
       "      <td>86757</td>\n",
       "      <td>284</td>\n",
       "      <td>https://s.glbimg.com/es/sde/f/2018/05/18/997fe...</td>\n",
       "      <td>6</td>\n",
       "      <td>6.68</td>\n",
       "      <td>Everton Sousa Soares</td>\n",
       "      <td>0</td>\n",
       "      <td>ATA</td>\n",
       "      <td>17.31</td>\n",
       "      <td>7</td>\n",
       "      <td>None</td>\n",
       "      <td>everton</td>\n",
       "      <td>6</td>\n",
       "      <td>0.00</td>\n",
       "    </tr>\n",
       "  </tbody>\n",
       "</table>\n",
       "</div>"
      ],
      "text/plain": [
       "          apelido  atleta_id  clube_id  \\\n",
       "0            Renê      78445       262   \n",
       "1  Bruno Henrique      90285       262   \n",
       "2          Fagner      42500       264   \n",
       "3            Dedé      60819       283   \n",
       "4    Fábio Santos      38229       282   \n",
       "5           Fábio      37656       283   \n",
       "6      Nico López      84709       285   \n",
       "7         Gabriel      83257       262   \n",
       "8     Diego Alves      38509       262   \n",
       "9         Everton      86757       284   \n",
       "\n",
       "                                                foto  jogos_num  media_num  \\\n",
       "0  https://s.glbimg.com/es/sde/f/2019/04/26/f7f5e...          4       3.27   \n",
       "1  https://s.glbimg.com/es/sde/f/2019/04/26/195ab...          6       6.80   \n",
       "2  https://s.glbimg.com/es/sde/f/2019/03/18/d5cd8...          5       9.90   \n",
       "3  https://s.glbimg.com/es/sde/f/2018/05/18/868bc...          7       5.72   \n",
       "4  https://s.glbimg.com/es/sde/f/2018/05/07/98bee...          6       4.27   \n",
       "5  https://s.glbimg.com/es/sde/f/2018/05/18/d4072...          6       3.17   \n",
       "6  https://s.glbimg.com/es/sde/f/2018/04/08/5bb6e...          6       3.32   \n",
       "7  https://s.glbimg.com/es/sde/f/2019/04/26/dd351...          5       7.74   \n",
       "8  https://s.glbimg.com/es/sde/f/2019/04/26/7bdef...          4       2.50   \n",
       "9  https://s.glbimg.com/es/sde/f/2018/05/18/997fe...          6       6.68   \n",
       "\n",
       "                            nome  pontos_num posicao_id  preco_num  rodada_id  \\\n",
       "0         Renê Rodrigues Martins           0        LAT       7.72          7   \n",
       "1           Bruno Henrique Pinto           0        ATA      20.56          7   \n",
       "2          Fagner Conserva Lemos           0        LAT      15.29          7   \n",
       "3        Anderson Vital da Silva           0        ZAG      15.74          7   \n",
       "4             Fábio Santos Romeu           0        LAT      12.61          7   \n",
       "5     Fábio Deivson Lopes Maciel           0        GOL       9.64          7   \n",
       "6  Nicolás Federico López Alonso           0        ATA      15.14          7   \n",
       "7        Gabriel Barbosa Almeida           0        ATA      18.33          7   \n",
       "8           Diego Alves Carreira           0        GOL       5.26          7   \n",
       "9           Everton Sousa Soares           0        ATA      17.31          7   \n",
       "\n",
       "  scout            slug  status_id  variacao_num  \n",
       "0  None            rene          7          0.00  \n",
       "1  None  bruno-henrique          7          0.00  \n",
       "2  None          fagner          6          0.00  \n",
       "3  None            dede          7          0.14  \n",
       "4  None    fabio-santos          7          3.09  \n",
       "5  None           fabio          7         -0.46  \n",
       "6  None      nico-lopez          7         -0.49  \n",
       "7  None         gabriel          7          2.61  \n",
       "8  None     diego-alves          7          1.06  \n",
       "9  None         everton          6          0.00  "
      ]
     },
     "execution_count": 23,
     "metadata": {},
     "output_type": "execute_result"
    }
   ],
   "source": [
    "roundN.head(10)"
   ]
  },
  {
   "cell_type": "code",
   "execution_count": 7,
   "metadata": {},
   "outputs": [],
   "source": [
    "roundN.to_csv(\"2019_round07_status.csv\")"
   ]
  },
  {
   "cell_type": "code",
   "execution_count": 8,
   "metadata": {},
   "outputs": [],
   "source": [
    "status = roundN[[\"rodada_id\", \"atleta_id\", \"status_id\"]]"
   ]
  },
  {
   "cell_type": "code",
   "execution_count": 24,
   "metadata": {},
   "outputs": [
    {
     "name": "stderr",
     "output_type": "stream",
     "text": [
      "/anaconda3/lib/python3.7/site-packages/ipykernel_launcher.py:2: SettingWithCopyWarning: \n",
      "A value is trying to be set on a copy of a slice from a DataFrame.\n",
      "Try using .loc[row_indexer,col_indexer] = value instead\n",
      "\n",
      "See the caveats in the documentation: http://pandas.pydata.org/pandas-docs/stable/indexing.html#indexing-view-versus-copy\n",
      "  \n"
     ]
    }
   ],
   "source": [
    "status.rodada_id = status.rodada_id + 1\n",
    "now = dt.now()\n",
    "status[\"query_time\"] = dt(now.year, now.month, now.day, now.hour, now.minute, now.second)\n",
    "status.status_id = status.status_id.apply(lambda x: status_id[str(x)])"
   ]
  },
  {
   "cell_type": "code",
   "execution_count": 26,
   "metadata": {},
   "outputs": [],
   "source": [
    "status = status[[\"rodada_id\", \"query_time\", \"atleta_id\", \"status_id\"]]\n",
    "status.columns = [\"round_num\", \"query_time\", \"player_id\", \"status_id\"]\n",
    "status.head()"
   ]
  },
  {
   "cell_type": "code",
   "execution_count": 28,
   "metadata": {},
   "outputs": [],
   "source": [
    "filename = \"../status/2019_round\"\n",
    "if status.round_num[0] < 10:\n",
    "    filename = filename + \"0\" + str(status.round_num[0]) + \"_status.csv\"\n",
    "else:\n",
    "    filename = filename + str(status.round_num[0]) + \"_status.csv\"\n",
    "\n",
    "status.to_csv(filename, index=False)"
   ]
  },
  {
   "cell_type": "code",
   "execution_count": null,
   "metadata": {},
   "outputs": [],
   "source": []
  }
 ],
 "metadata": {
  "kernelspec": {
   "display_name": "Python 3",
   "language": "python",
   "name": "python3"
  },
  "language_info": {
   "codemirror_mode": {
    "name": "ipython",
    "version": 3
   },
   "file_extension": ".py",
   "mimetype": "text/x-python",
   "name": "python",
   "nbconvert_exporter": "python",
   "pygments_lexer": "ipython3",
   "version": "3.7.1"
  }
 },
 "nbformat": 4,
 "nbformat_minor": 2
}
